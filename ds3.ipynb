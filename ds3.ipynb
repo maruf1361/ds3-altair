{
 "cells": [
  {
   "cell_type": "code",
   "execution_count": null,
   "id": "3ddbbf90-b167-4d1c-a0bc-477298c9f700",
   "metadata": {},
   "outputs": [],
   "source": [
    "import altair as alt\n",
    "import pandas as pd\n",
    "import openpyxl"
   ]
  },
  {
   "cell_type": "code",
   "execution_count": 8,
   "id": "2283901f-c3c6-4553-9079-50f798c7d5a4",
   "metadata": {},
   "outputs": [],
   "source": [
    "performance_data = pd.DataFrame({\n",
    "    'participant': ['Chisang', 'Chisang', 'Chisang', 'Chisang',\n",
    "                   'Nadim', 'Nadim', 'Nadim', 'Nadim',\n",
    "                   'Dalton', 'Dalton', 'Dalton', 'Dalton',\n",
    "                   'Tyler', 'Tyler', 'Tyler', 'Tyler'],\n",
    "    'control_type': ['Keyboard', 'Keyboard', 'Gesture', 'Gesture'] * 4,\n",
    "    'score': [12785, 5386, 2015, 3016,  \n",
    "              9054, 11002, 2990, 5668,  \n",
    "              23267, 7717, 2947, 3312,   \n",
    "              13837, 15321, 2112, 3189], \n",
    "    'distance': [1258, 477, 211, 492,    \n",
    "                 901, 1303, 263, 465,    \n",
    "                 2001, 700, 244, 503,    \n",
    "                 1313, 1525, 211, 3100],  \n",
    "    'duration': [72, 31, 15, 33,         \n",
    "                 51, 78, 21, 38,         \n",
    "                 92, 56, 17, 33,         \n",
    "                 82, 91, 17, 26]         \n",
    "})"
   ]
  },
  {
   "cell_type": "code",
   "execution_count": 9,
   "id": "4a9571f1-1a95-40ef-8e70-c3d4785214e6",
   "metadata": {},
   "outputs": [],
   "source": [
    "# Create NASA TLX dataframe\n",
    "nasa_tlx_data = pd.DataFrame({\n",
    "    'participant': ['Chisang', 'Chisang', 'Nadim', 'Nadim', 'Dalton', 'Dalton', 'Tyler', 'Tyler'],\n",
    "    'control_type': ['Keyboard', 'Gesture'] * 4,\n",
    "    'mental_demand': [6, 6, 7, 7, 2, 8, 1, 10],\n",
    "    'physical_demand': [2, 8, 6, 12, 2, 10, 1, 10],\n",
    "    'temporal_demand': [11, 14, 11, 15, 11, 14, 8, 14],\n",
    "    'performance': [6, 4, 8, 4, 8, 3, 10, 4],\n",
    "    'effort': [6, 9, 8, 12, 3, 9, 1, 11],\n",
    "    'frustration': [5, 11, 5, 12, 2, 12, 1, 12]\n",
    "})"
   ]
  },
  {
   "cell_type": "code",
   "execution_count": 10,
   "id": "5700d14a-1ff7-47e0-831a-861ba20ca66e",
   "metadata": {},
   "outputs": [],
   "source": [
    "# Function to create performance comparison charts\n",
    "def create_performance_chart(data, metric):\n",
    "    chart = alt.Chart(data).encode(\n",
    "        x=alt.X('control_type:N', title='Control Type'),\n",
    "        color=alt.Color('control_type:N')\n",
    "    )\n",
    "    \n",
    "    # Create bar chart\n",
    "    bars = chart.mark_bar().encode(\n",
    "        y=alt.Y(f'mean({metric}):Q', title=f'Average {metric.title()}')\n",
    "    )\n",
    "    \n",
    "    # Add individual points\n",
    "    points = chart.mark_point(size=60, opacity=0.7).encode(\n",
    "        y=alt.Y(f'{metric}:Q'),\n",
    "        tooltip=['participant', metric]\n",
    "    )\n",
    "    \n",
    "    return alt.layer(bars, points).properties(\n",
    "        width=300,\n",
    "        height=200,\n",
    "        title=f'Average {metric.title()} by Control Type'\n",
    "    )\n"
   ]
  },
  {
   "cell_type": "code",
   "execution_count": 11,
   "id": "1f84c56e-4d39-4f70-80bf-0e84d3780efc",
   "metadata": {},
   "outputs": [],
   "source": [
    "# Create NASA TLX comparison chart\n",
    "nasa_melted = pd.melt(\n",
    "    nasa_tlx_data, \n",
    "    id_vars=['participant', 'control_type'],\n",
    "    var_name='metric',\n",
    "    value_name='score'\n",
    ")\n",
    "\n",
    "nasa_chart = alt.Chart(nasa_melted).mark_bar().encode(\n",
    "    x=alt.X('control_type:N', title='Control Type'),\n",
    "    y=alt.Y('mean(score):Q', title='Average Score'),\n",
    "    color='control_type:N',\n",
    "    column=alt.Column('metric:N', title='NASA TLX Metrics')\n",
    ").properties(\n",
    "    width=100,\n",
    "    title='NASA TLX Scores Comparison'\n",
    ")"
   ]
  },
  {
   "cell_type": "code",
   "execution_count": 12,
   "id": "f307f283-54f0-43e4-b14c-8860641da470",
   "metadata": {},
   "outputs": [],
   "source": [
    "# Create individual performance charts\n",
    "score_chart = create_performance_chart(performance_data, 'score')\n",
    "distance_chart = create_performance_chart(performance_data, 'distance')\n",
    "duration_chart = create_performance_chart(performance_data, 'duration')\n",
    "\n",
    "# Display charts\n",
    "performance_chart = alt.vconcat(\n",
    "    score_chart,\n",
    "    distance_chart,\n",
    "    duration_chart\n",
    ").properties(\n",
    "    title='Performance Metrics Comparison'\n",
    ")\n"
   ]
  },
  {
   "cell_type": "code",
   "execution_count": 13,
   "id": "9af4650e-0242-47e3-97b7-574d50c05e2b",
   "metadata": {},
   "outputs": [
    {
     "data": {
      "text/html": [
       "\n",
       "<style>\n",
       "  #altair-viz-2158b4d2983a4d32bd22654d6a57e6e2.vega-embed {\n",
       "    width: 100%;\n",
       "    display: flex;\n",
       "  }\n",
       "\n",
       "  #altair-viz-2158b4d2983a4d32bd22654d6a57e6e2.vega-embed details,\n",
       "  #altair-viz-2158b4d2983a4d32bd22654d6a57e6e2.vega-embed details summary {\n",
       "    position: relative;\n",
       "  }\n",
       "</style>\n",
       "<div id=\"altair-viz-2158b4d2983a4d32bd22654d6a57e6e2\"></div>\n",
       "<script type=\"text/javascript\">\n",
       "  var VEGA_DEBUG = (typeof VEGA_DEBUG == \"undefined\") ? {} : VEGA_DEBUG;\n",
       "  (function(spec, embedOpt){\n",
       "    let outputDiv = document.currentScript.previousElementSibling;\n",
       "    if (outputDiv.id !== \"altair-viz-2158b4d2983a4d32bd22654d6a57e6e2\") {\n",
       "      outputDiv = document.getElementById(\"altair-viz-2158b4d2983a4d32bd22654d6a57e6e2\");\n",
       "    }\n",
       "    const paths = {\n",
       "      \"vega\": \"https://cdn.jsdelivr.net/npm/vega@5?noext\",\n",
       "      \"vega-lib\": \"https://cdn.jsdelivr.net/npm/vega-lib?noext\",\n",
       "      \"vega-lite\": \"https://cdn.jsdelivr.net/npm/vega-lite@5.20.1?noext\",\n",
       "      \"vega-embed\": \"https://cdn.jsdelivr.net/npm/vega-embed@6?noext\",\n",
       "    };\n",
       "\n",
       "    function maybeLoadScript(lib, version) {\n",
       "      var key = `${lib.replace(\"-\", \"\")}_version`;\n",
       "      return (VEGA_DEBUG[key] == version) ?\n",
       "        Promise.resolve(paths[lib]) :\n",
       "        new Promise(function(resolve, reject) {\n",
       "          var s = document.createElement('script');\n",
       "          document.getElementsByTagName(\"head\")[0].appendChild(s);\n",
       "          s.async = true;\n",
       "          s.onload = () => {\n",
       "            VEGA_DEBUG[key] = version;\n",
       "            return resolve(paths[lib]);\n",
       "          };\n",
       "          s.onerror = () => reject(`Error loading script: ${paths[lib]}`);\n",
       "          s.src = paths[lib];\n",
       "        });\n",
       "    }\n",
       "\n",
       "    function showError(err) {\n",
       "      outputDiv.innerHTML = `<div class=\"error\" style=\"color:red;\">${err}</div>`;\n",
       "      throw err;\n",
       "    }\n",
       "\n",
       "    function displayChart(vegaEmbed) {\n",
       "      vegaEmbed(outputDiv, spec, embedOpt)\n",
       "        .catch(err => showError(`Javascript Error: ${err.message}<br>This usually means there's a typo in your chart specification. See the javascript console for the full traceback.`));\n",
       "    }\n",
       "\n",
       "    if(typeof define === \"function\" && define.amd) {\n",
       "      requirejs.config({paths});\n",
       "      require([\"vega-embed\"], displayChart, err => showError(`Error loading script: ${err.message}`));\n",
       "    } else {\n",
       "      maybeLoadScript(\"vega\", \"5\")\n",
       "        .then(() => maybeLoadScript(\"vega-lite\", \"5.20.1\"))\n",
       "        .then(() => maybeLoadScript(\"vega-embed\", \"6\"))\n",
       "        .catch(showError)\n",
       "        .then(() => displayChart(vegaEmbed));\n",
       "    }\n",
       "  })({\"config\": {\"view\": {\"continuousWidth\": 300, \"continuousHeight\": 300}}, \"vconcat\": [{\"layer\": [{\"mark\": {\"type\": \"bar\"}, \"encoding\": {\"color\": {\"field\": \"control_type\", \"type\": \"nominal\"}, \"x\": {\"field\": \"control_type\", \"title\": \"Control Type\", \"type\": \"nominal\"}, \"y\": {\"aggregate\": \"mean\", \"field\": \"score\", \"title\": \"Average Score\", \"type\": \"quantitative\"}}}, {\"mark\": {\"type\": \"point\", \"opacity\": 0.7, \"size\": 60}, \"encoding\": {\"color\": {\"field\": \"control_type\", \"type\": \"nominal\"}, \"tooltip\": [{\"field\": \"participant\", \"type\": \"nominal\"}, {\"field\": \"score\", \"type\": \"quantitative\"}], \"x\": {\"field\": \"control_type\", \"title\": \"Control Type\", \"type\": \"nominal\"}, \"y\": {\"field\": \"score\", \"type\": \"quantitative\"}}}], \"height\": 200, \"title\": \"Average Score by Control Type\", \"width\": 300}, {\"layer\": [{\"mark\": {\"type\": \"bar\"}, \"encoding\": {\"color\": {\"field\": \"control_type\", \"type\": \"nominal\"}, \"x\": {\"field\": \"control_type\", \"title\": \"Control Type\", \"type\": \"nominal\"}, \"y\": {\"aggregate\": \"mean\", \"field\": \"distance\", \"title\": \"Average Distance\", \"type\": \"quantitative\"}}}, {\"mark\": {\"type\": \"point\", \"opacity\": 0.7, \"size\": 60}, \"encoding\": {\"color\": {\"field\": \"control_type\", \"type\": \"nominal\"}, \"tooltip\": [{\"field\": \"participant\", \"type\": \"nominal\"}, {\"field\": \"distance\", \"type\": \"quantitative\"}], \"x\": {\"field\": \"control_type\", \"title\": \"Control Type\", \"type\": \"nominal\"}, \"y\": {\"field\": \"distance\", \"type\": \"quantitative\"}}}], \"height\": 200, \"title\": \"Average Distance by Control Type\", \"width\": 300}, {\"layer\": [{\"mark\": {\"type\": \"bar\"}, \"encoding\": {\"color\": {\"field\": \"control_type\", \"type\": \"nominal\"}, \"x\": {\"field\": \"control_type\", \"title\": \"Control Type\", \"type\": \"nominal\"}, \"y\": {\"aggregate\": \"mean\", \"field\": \"duration\", \"title\": \"Average Duration\", \"type\": \"quantitative\"}}}, {\"mark\": {\"type\": \"point\", \"opacity\": 0.7, \"size\": 60}, \"encoding\": {\"color\": {\"field\": \"control_type\", \"type\": \"nominal\"}, \"tooltip\": [{\"field\": \"participant\", \"type\": \"nominal\"}, {\"field\": \"duration\", \"type\": \"quantitative\"}], \"x\": {\"field\": \"control_type\", \"title\": \"Control Type\", \"type\": \"nominal\"}, \"y\": {\"field\": \"duration\", \"type\": \"quantitative\"}}}], \"height\": 200, \"title\": \"Average Duration by Control Type\", \"width\": 300}, {\"data\": {\"name\": \"data-afa5a34a641f597fdc89f478db9f02f8\"}, \"mark\": {\"type\": \"bar\"}, \"encoding\": {\"color\": {\"field\": \"control_type\", \"type\": \"nominal\"}, \"column\": {\"field\": \"metric\", \"title\": \"NASA TLX Metrics\", \"type\": \"nominal\"}, \"x\": {\"field\": \"control_type\", \"title\": \"Control Type\", \"type\": \"nominal\"}, \"y\": {\"aggregate\": \"mean\", \"field\": \"score\", \"title\": \"Average Score\", \"type\": \"quantitative\"}}, \"title\": \"NASA TLX Scores Comparison\", \"width\": 100}], \"data\": {\"name\": \"data-1f63b7713c57a5b0e3101c3ff710d79b\"}, \"title\": \"Performance Metrics Comparison\", \"$schema\": \"https://vega.github.io/schema/vega-lite/v5.20.1.json\", \"datasets\": {\"data-1f63b7713c57a5b0e3101c3ff710d79b\": [{\"participant\": \"Chisang\", \"control_type\": \"Keyboard\", \"score\": 12785, \"distance\": 1258, \"duration\": 72}, {\"participant\": \"Chisang\", \"control_type\": \"Keyboard\", \"score\": 5386, \"distance\": 477, \"duration\": 31}, {\"participant\": \"Chisang\", \"control_type\": \"Gesture\", \"score\": 2015, \"distance\": 211, \"duration\": 15}, {\"participant\": \"Chisang\", \"control_type\": \"Gesture\", \"score\": 3016, \"distance\": 492, \"duration\": 33}, {\"participant\": \"Nadim\", \"control_type\": \"Keyboard\", \"score\": 9054, \"distance\": 901, \"duration\": 51}, {\"participant\": \"Nadim\", \"control_type\": \"Keyboard\", \"score\": 11002, \"distance\": 1303, \"duration\": 78}, {\"participant\": \"Nadim\", \"control_type\": \"Gesture\", \"score\": 2990, \"distance\": 263, \"duration\": 21}, {\"participant\": \"Nadim\", \"control_type\": \"Gesture\", \"score\": 5668, \"distance\": 465, \"duration\": 38}, {\"participant\": \"Dalton\", \"control_type\": \"Keyboard\", \"score\": 23267, \"distance\": 2001, \"duration\": 92}, {\"participant\": \"Dalton\", \"control_type\": \"Keyboard\", \"score\": 7717, \"distance\": 700, \"duration\": 56}, {\"participant\": \"Dalton\", \"control_type\": \"Gesture\", \"score\": 2947, \"distance\": 244, \"duration\": 17}, {\"participant\": \"Dalton\", \"control_type\": \"Gesture\", \"score\": 3312, \"distance\": 503, \"duration\": 33}, {\"participant\": \"Tyler\", \"control_type\": \"Keyboard\", \"score\": 13837, \"distance\": 1313, \"duration\": 82}, {\"participant\": \"Tyler\", \"control_type\": \"Keyboard\", \"score\": 15321, \"distance\": 1525, \"duration\": 91}, {\"participant\": \"Tyler\", \"control_type\": \"Gesture\", \"score\": 2112, \"distance\": 211, \"duration\": 17}, {\"participant\": \"Tyler\", \"control_type\": \"Gesture\", \"score\": 3189, \"distance\": 3100, \"duration\": 26}], \"data-afa5a34a641f597fdc89f478db9f02f8\": [{\"participant\": \"Chisang\", \"control_type\": \"Keyboard\", \"metric\": \"mental_demand\", \"score\": 6}, {\"participant\": \"Chisang\", \"control_type\": \"Gesture\", \"metric\": \"mental_demand\", \"score\": 6}, {\"participant\": \"Nadim\", \"control_type\": \"Keyboard\", \"metric\": \"mental_demand\", \"score\": 7}, {\"participant\": \"Nadim\", \"control_type\": \"Gesture\", \"metric\": \"mental_demand\", \"score\": 7}, {\"participant\": \"Dalton\", \"control_type\": \"Keyboard\", \"metric\": \"mental_demand\", \"score\": 2}, {\"participant\": \"Dalton\", \"control_type\": \"Gesture\", \"metric\": \"mental_demand\", \"score\": 8}, {\"participant\": \"Tyler\", \"control_type\": \"Keyboard\", \"metric\": \"mental_demand\", \"score\": 1}, {\"participant\": \"Tyler\", \"control_type\": \"Gesture\", \"metric\": \"mental_demand\", \"score\": 10}, {\"participant\": \"Chisang\", \"control_type\": \"Keyboard\", \"metric\": \"physical_demand\", \"score\": 2}, {\"participant\": \"Chisang\", \"control_type\": \"Gesture\", \"metric\": \"physical_demand\", \"score\": 8}, {\"participant\": \"Nadim\", \"control_type\": \"Keyboard\", \"metric\": \"physical_demand\", \"score\": 6}, {\"participant\": \"Nadim\", \"control_type\": \"Gesture\", \"metric\": \"physical_demand\", \"score\": 12}, {\"participant\": \"Dalton\", \"control_type\": \"Keyboard\", \"metric\": \"physical_demand\", \"score\": 2}, {\"participant\": \"Dalton\", \"control_type\": \"Gesture\", \"metric\": \"physical_demand\", \"score\": 10}, {\"participant\": \"Tyler\", \"control_type\": \"Keyboard\", \"metric\": \"physical_demand\", \"score\": 1}, {\"participant\": \"Tyler\", \"control_type\": \"Gesture\", \"metric\": \"physical_demand\", \"score\": 10}, {\"participant\": \"Chisang\", \"control_type\": \"Keyboard\", \"metric\": \"temporal_demand\", \"score\": 11}, {\"participant\": \"Chisang\", \"control_type\": \"Gesture\", \"metric\": \"temporal_demand\", \"score\": 14}, {\"participant\": \"Nadim\", \"control_type\": \"Keyboard\", \"metric\": \"temporal_demand\", \"score\": 11}, {\"participant\": \"Nadim\", \"control_type\": \"Gesture\", \"metric\": \"temporal_demand\", \"score\": 15}, {\"participant\": \"Dalton\", \"control_type\": \"Keyboard\", \"metric\": \"temporal_demand\", \"score\": 11}, {\"participant\": \"Dalton\", \"control_type\": \"Gesture\", \"metric\": \"temporal_demand\", \"score\": 14}, {\"participant\": \"Tyler\", \"control_type\": \"Keyboard\", \"metric\": \"temporal_demand\", \"score\": 8}, {\"participant\": \"Tyler\", \"control_type\": \"Gesture\", \"metric\": \"temporal_demand\", \"score\": 14}, {\"participant\": \"Chisang\", \"control_type\": \"Keyboard\", \"metric\": \"performance\", \"score\": 6}, {\"participant\": \"Chisang\", \"control_type\": \"Gesture\", \"metric\": \"performance\", \"score\": 4}, {\"participant\": \"Nadim\", \"control_type\": \"Keyboard\", \"metric\": \"performance\", \"score\": 8}, {\"participant\": \"Nadim\", \"control_type\": \"Gesture\", \"metric\": \"performance\", \"score\": 4}, {\"participant\": \"Dalton\", \"control_type\": \"Keyboard\", \"metric\": \"performance\", \"score\": 8}, {\"participant\": \"Dalton\", \"control_type\": \"Gesture\", \"metric\": \"performance\", \"score\": 3}, {\"participant\": \"Tyler\", \"control_type\": \"Keyboard\", \"metric\": \"performance\", \"score\": 10}, {\"participant\": \"Tyler\", \"control_type\": \"Gesture\", \"metric\": \"performance\", \"score\": 4}, {\"participant\": \"Chisang\", \"control_type\": \"Keyboard\", \"metric\": \"effort\", \"score\": 6}, {\"participant\": \"Chisang\", \"control_type\": \"Gesture\", \"metric\": \"effort\", \"score\": 9}, {\"participant\": \"Nadim\", \"control_type\": \"Keyboard\", \"metric\": \"effort\", \"score\": 8}, {\"participant\": \"Nadim\", \"control_type\": \"Gesture\", \"metric\": \"effort\", \"score\": 12}, {\"participant\": \"Dalton\", \"control_type\": \"Keyboard\", \"metric\": \"effort\", \"score\": 3}, {\"participant\": \"Dalton\", \"control_type\": \"Gesture\", \"metric\": \"effort\", \"score\": 9}, {\"participant\": \"Tyler\", \"control_type\": \"Keyboard\", \"metric\": \"effort\", \"score\": 1}, {\"participant\": \"Tyler\", \"control_type\": \"Gesture\", \"metric\": \"effort\", \"score\": 11}, {\"participant\": \"Chisang\", \"control_type\": \"Keyboard\", \"metric\": \"frustration\", \"score\": 5}, {\"participant\": \"Chisang\", \"control_type\": \"Gesture\", \"metric\": \"frustration\", \"score\": 11}, {\"participant\": \"Nadim\", \"control_type\": \"Keyboard\", \"metric\": \"frustration\", \"score\": 5}, {\"participant\": \"Nadim\", \"control_type\": \"Gesture\", \"metric\": \"frustration\", \"score\": 12}, {\"participant\": \"Dalton\", \"control_type\": \"Keyboard\", \"metric\": \"frustration\", \"score\": 2}, {\"participant\": \"Dalton\", \"control_type\": \"Gesture\", \"metric\": \"frustration\", \"score\": 12}, {\"participant\": \"Tyler\", \"control_type\": \"Keyboard\", \"metric\": \"frustration\", \"score\": 1}, {\"participant\": \"Tyler\", \"control_type\": \"Gesture\", \"metric\": \"frustration\", \"score\": 12}]}}, {\"mode\": \"vega-lite\"});\n",
       "</script>"
      ],
      "text/plain": [
       "alt.VConcatChart(...)"
      ]
     },
     "execution_count": 13,
     "metadata": {},
     "output_type": "execute_result"
    }
   ],
   "source": [
    "\n",
    "# Display both sets of visualizations\n",
    "performance_chart & nasa_chart"
   ]
  },
  {
   "cell_type": "code",
   "execution_count": null,
   "id": "6268f519-d592-4002-b399-55bf6404144a",
   "metadata": {},
   "outputs": [],
   "source": []
  }
 ],
 "metadata": {
  "kernelspec": {
   "display_name": "Python 3 (ipykernel)",
   "language": "python",
   "name": "python3"
  },
  "language_info": {
   "codemirror_mode": {
    "name": "ipython",
    "version": 3
   },
   "file_extension": ".py",
   "mimetype": "text/x-python",
   "name": "python",
   "nbconvert_exporter": "python",
   "pygments_lexer": "ipython3",
   "version": "3.12.4"
  }
 },
 "nbformat": 4,
 "nbformat_minor": 5
}
