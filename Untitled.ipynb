{
 "cells": [
  {
   "cell_type": "code",
   "execution_count": 1,
   "id": "f3d26286-a135-4f0b-b7cf-7a8c309c58b0",
   "metadata": {},
   "outputs": [],
   "source": [
    "import altair as alt\n",
    "import pandas as pd\n",
    "import openpyxl"
   ]
  },
  {
   "cell_type": "code",
   "execution_count": 2,
   "id": "21fd145e-1879-4772-bda2-167118a5c861",
   "metadata": {},
   "outputs": [],
   "source": [
    "performance_data = pd.DataFrame({\n",
    "    'participant': ['Chisang', 'Chisang', 'Chisang', 'Chisang',\n",
    "                   'Nadim', 'Nadim', 'Nadim', 'Nadim',\n",
    "                   'Dalton', 'Dalton', 'Dalton', 'Dalton',\n",
    "                   'Tyler', 'Tyler', 'Tyler', 'Tyler'],\n",
    "    'control_type': ['Keyboard', 'Keyboard', 'Gesture', 'Gesture'] * 4,\n",
    "    'score': [12785, 5386, 2015, 3016,  \n",
    "              9054, 11002, 2990, 5668,  \n",
    "              23267, 7717, 2947, 3312,   \n",
    "              13837, 15321, 2112, 3189], \n",
    "    'distance': [1258, 477, 211, 492,    \n",
    "                 901, 1303, 263, 465,    \n",
    "                 2001, 700, 244, 503,    \n",
    "                 1313, 1525, 211, 3100],  \n",
    "    'duration': [72, 31, 15, 33,         \n",
    "                 51, 78, 21, 38,         \n",
    "                 92, 56, 17, 33,         \n",
    "                 82, 91, 17, 26]         \n",
    "})"
   ]
  },
  {
   "cell_type": "code",
   "execution_count": 3,
   "id": "136c5478-1c4b-4e65-801f-061229b6f466",
   "metadata": {},
   "outputs": [],
   "source": [
    "nasa_tlx_data = pd.DataFrame({\n",
    "    'participant': ['Chisang', 'Chisang', 'Nadim', 'Nadim', 'Dalton', 'Dalton', 'Tyler', 'Tyler'],\n",
    "    'control_type': ['Keyboard', 'Gesture'] * 4,\n",
    "    'mental_demand': [6, 6, 7, 7, 2, 8, 1, 10],\n",
    "    'physical_demand': [2, 8, 6, 12, 2, 10, 1, 10],\n",
    "    'temporal_demand': [11, 14, 11, 15, 11, 14, 8, 14],\n",
    "    'performance': [6, 4, 8, 4, 8, 3, 10, 4],\n",
    "    'effort': [6, 9, 8, 12, 3, 9, 1, 11],\n",
    "    'frustration': [5, 11, 5, 12, 2, 12, 1, 12]\n",
    "})"
   ]
  },
  {
   "cell_type": "code",
   "execution_count": 14,
   "id": "288c6ffc-7922-44a5-bce0-b9f2f68d5c8c",
   "metadata": {},
   "outputs": [],
   "source": [
    "def create_performance_chart(data, metric):\n",
    "    chart = alt.Chart(data).encode(\n",
    "        x=alt.X('control_type:N', title='Control Type'),\n",
    "        y=alt.Y(f'mean({metric}):Q', title=f'Average {metric.title()}'),\n",
    "        color=alt.Color('control_type:N')\n",
    "    ).mark_bar().properties(\n",
    "        width=300,\n",
    "        height=200,\n",
    "        title=f'Average {metric.title()} by Control Type'\n",
    "    )\n"
   ]
  },
  {
   "cell_type": "code",
   "execution_count": 12,
   "id": "77eca273-de4e-4958-acca-d55e215fb22c",
   "metadata": {},
   "outputs": [],
   "source": [
    "nasa_melted = pd.melt(\n",
    "    nasa_tlx_data, \n",
    "    id_vars=['participant', 'control_type'],\n",
    "    var_name='metric',\n",
    "    value_name='score'\n",
    ")\n",
    "\n",
    "nasa_chart = alt.Chart(nasa_melted).mark_bar().encode(\n",
    "    x=alt.X('control_type:N', title='Control Type'),\n",
    "    y=alt.Y('mean(score):Q', title='Average Score'),\n",
    "    color='control_type:N',\n",
    "    column=alt.Column('metric:N', title='NASA TLX Metrics')\n",
    ").properties(\n",
    "    width=100,\n",
    "    title='NASA TLX Scores Comparison'\n",
    ")"
   ]
  },
  {
   "cell_type": "code",
   "execution_count": 15,
   "id": "f9decd84-cdba-44f0-94bc-017fabe25c1f",
   "metadata": {},
   "outputs": [
    {
     "ename": "TypeError",
     "evalue": "Only chart objects can be used in VConcatChart.",
     "output_type": "error",
     "traceback": [
      "\u001b[0;31m---------------------------------------------------------------------------\u001b[0m",
      "\u001b[0;31mTypeError\u001b[0m                                 Traceback (most recent call last)",
      "Cell \u001b[0;32mIn[15], line 7\u001b[0m\n\u001b[1;32m      4\u001b[0m duration_chart \u001b[38;5;241m=\u001b[39m create_performance_chart(performance_data, \u001b[38;5;124m'\u001b[39m\u001b[38;5;124mduration\u001b[39m\u001b[38;5;124m'\u001b[39m)\n\u001b[1;32m      6\u001b[0m \u001b[38;5;66;03m# Display charts\u001b[39;00m\n\u001b[0;32m----> 7\u001b[0m performance_chart \u001b[38;5;241m=\u001b[39m \u001b[43malt\u001b[49m\u001b[38;5;241;43m.\u001b[39;49m\u001b[43mvconcat\u001b[49m\u001b[43m(\u001b[49m\n\u001b[1;32m      8\u001b[0m \u001b[43m    \u001b[49m\u001b[43mscore_chart\u001b[49m\u001b[43m,\u001b[49m\n\u001b[1;32m      9\u001b[0m \u001b[43m    \u001b[49m\u001b[43mdistance_chart\u001b[49m\u001b[43m,\u001b[49m\n\u001b[1;32m     10\u001b[0m \u001b[43m    \u001b[49m\u001b[43mduration_chart\u001b[49m\n\u001b[1;32m     11\u001b[0m \u001b[43m)\u001b[49m\u001b[38;5;241m.\u001b[39mproperties(\n\u001b[1;32m     12\u001b[0m     title\u001b[38;5;241m=\u001b[39m\u001b[38;5;124m'\u001b[39m\u001b[38;5;124mPerformance Metrics Comparison\u001b[39m\u001b[38;5;124m'\u001b[39m\n\u001b[1;32m     13\u001b[0m )\n",
      "File \u001b[0;32m~/miniconda3/lib/python3.12/site-packages/altair/vegalite/v5/api.py:4375\u001b[0m, in \u001b[0;36mvconcat\u001b[0;34m(*charts, **kwargs)\u001b[0m\n\u001b[1;32m   4373\u001b[0m \u001b[38;5;28;01mdef\u001b[39;00m \u001b[38;5;21mvconcat\u001b[39m(\u001b[38;5;241m*\u001b[39mcharts: ConcatType, \u001b[38;5;241m*\u001b[39m\u001b[38;5;241m*\u001b[39mkwargs: Any) \u001b[38;5;241m-\u001b[39m\u001b[38;5;241m>\u001b[39m VConcatChart:\n\u001b[1;32m   4374\u001b[0m \u001b[38;5;250m    \u001b[39m\u001b[38;5;124;03m\"\"\"Concatenate charts vertically.\"\"\"\u001b[39;00m\n\u001b[0;32m-> 4375\u001b[0m     \u001b[38;5;28;01mreturn\u001b[39;00m \u001b[43mVConcatChart\u001b[49m\u001b[43m(\u001b[49m\u001b[43mvconcat\u001b[49m\u001b[38;5;241;43m=\u001b[39;49m\u001b[43mcharts\u001b[49m\u001b[43m,\u001b[49m\u001b[43m \u001b[49m\u001b[38;5;241;43m*\u001b[39;49m\u001b[38;5;241;43m*\u001b[39;49m\u001b[43mkwargs\u001b[49m\u001b[43m)\u001b[49m\n",
      "File \u001b[0;32m~/miniconda3/lib/python3.12/site-packages/altair/vegalite/v5/api.py:4283\u001b[0m, in \u001b[0;36mVConcatChart.__init__\u001b[0;34m(self, data, vconcat, **kwargs)\u001b[0m\n\u001b[1;32m   4275\u001b[0m \u001b[38;5;129m@utils\u001b[39m\u001b[38;5;241m.\u001b[39muse_signature(core\u001b[38;5;241m.\u001b[39mTopLevelVConcatSpec)\n\u001b[1;32m   4276\u001b[0m \u001b[38;5;28;01mdef\u001b[39;00m \u001b[38;5;21m__init__\u001b[39m(\n\u001b[1;32m   4277\u001b[0m     \u001b[38;5;28mself\u001b[39m,\n\u001b[0;32m   (...)\u001b[0m\n\u001b[1;32m   4280\u001b[0m     \u001b[38;5;241m*\u001b[39m\u001b[38;5;241m*\u001b[39mkwargs: Any,\n\u001b[1;32m   4281\u001b[0m ) \u001b[38;5;241m-\u001b[39m\u001b[38;5;241m>\u001b[39m \u001b[38;5;28;01mNone\u001b[39;00m:\n\u001b[1;32m   4282\u001b[0m     \u001b[38;5;28;01mfor\u001b[39;00m spec \u001b[38;5;129;01min\u001b[39;00m vconcat:\n\u001b[0;32m-> 4283\u001b[0m         \u001b[43m_check_if_valid_subspec\u001b[49m\u001b[43m(\u001b[49m\u001b[43mspec\u001b[49m\u001b[43m,\u001b[49m\u001b[43m \u001b[49m\u001b[38;5;124;43m\"\u001b[39;49m\u001b[38;5;124;43mVConcatChart\u001b[39;49m\u001b[38;5;124;43m\"\u001b[39;49m\u001b[43m)\u001b[49m\n\u001b[1;32m   4284\u001b[0m     \u001b[38;5;28msuper\u001b[39m()\u001b[38;5;241m.\u001b[39m\u001b[38;5;21m__init__\u001b[39m(data\u001b[38;5;241m=\u001b[39mdata, vconcat\u001b[38;5;241m=\u001b[39m\u001b[38;5;28mlist\u001b[39m(vconcat), \u001b[38;5;241m*\u001b[39m\u001b[38;5;241m*\u001b[39mkwargs)  \u001b[38;5;66;03m# type: ignore[arg-type]\u001b[39;00m\n\u001b[1;32m   4285\u001b[0m     \u001b[38;5;28mself\u001b[39m\u001b[38;5;241m.\u001b[39mvconcat: \u001b[38;5;28mlist\u001b[39m[ChartType]\n",
      "File \u001b[0;32m~/miniconda3/lib/python3.12/site-packages/altair/vegalite/v5/api.py:3866\u001b[0m, in \u001b[0;36m_check_if_valid_subspec\u001b[0;34m(spec, classname)\u001b[0m\n\u001b[1;32m   3864\u001b[0m \u001b[38;5;28;01mif\u001b[39;00m \u001b[38;5;129;01mnot\u001b[39;00m \u001b[38;5;28misinstance\u001b[39m(spec, core\u001b[38;5;241m.\u001b[39mSchemaBase):\n\u001b[1;32m   3865\u001b[0m     msg \u001b[38;5;241m=\u001b[39m \u001b[38;5;124mf\u001b[39m\u001b[38;5;124m\"\u001b[39m\u001b[38;5;124mOnly chart objects can be used in \u001b[39m\u001b[38;5;132;01m{\u001b[39;00mclassname\u001b[38;5;132;01m}\u001b[39;00m\u001b[38;5;124m.\u001b[39m\u001b[38;5;124m\"\u001b[39m\n\u001b[0;32m-> 3866\u001b[0m     \u001b[38;5;28;01mraise\u001b[39;00m \u001b[38;5;167;01mTypeError\u001b[39;00m(msg)\n\u001b[1;32m   3867\u001b[0m \u001b[38;5;28;01mfor\u001b[39;00m attr \u001b[38;5;129;01min\u001b[39;00m TOPLEVEL_ONLY_KEYS:\n\u001b[1;32m   3868\u001b[0m     \u001b[38;5;28;01mif\u001b[39;00m spec\u001b[38;5;241m.\u001b[39m_get(attr) \u001b[38;5;129;01mis\u001b[39;00m \u001b[38;5;129;01mnot\u001b[39;00m Undefined:\n",
      "\u001b[0;31mTypeError\u001b[0m: Only chart objects can be used in VConcatChart."
     ]
    }
   ],
   "source": [
    "# Create individual performance charts\n",
    "score_chart = create_performance_chart(performance_data, 'score')\n",
    "distance_chart = create_performance_chart(performance_data, 'distance')\n",
    "duration_chart = create_performance_chart(performance_data, 'duration')\n",
    "\n",
    "# Display charts\n",
    "performance_chart = alt.vconcat(\n",
    "    score_chart,\n",
    "    distance_chart,\n",
    "    duration_chart\n",
    ").properties(\n",
    "    title='Performance Metrics Comparison'\n",
    ")"
   ]
  },
  {
   "cell_type": "code",
   "execution_count": 10,
   "id": "c7ce72f4-f39b-4970-8369-74ba5c6145f7",
   "metadata": {},
   "outputs": [
    {
     "data": {
      "text/html": [
       "\n",
       "<style>\n",
       "  #altair-viz-6ce8ab28cf474a2885c445436b35ff94.vega-embed {\n",
       "    width: 100%;\n",
       "    display: flex;\n",
       "  }\n",
       "\n",
       "  #altair-viz-6ce8ab28cf474a2885c445436b35ff94.vega-embed details,\n",
       "  #altair-viz-6ce8ab28cf474a2885c445436b35ff94.vega-embed details summary {\n",
       "    position: relative;\n",
       "  }\n",
       "</style>\n",
       "<div id=\"altair-viz-6ce8ab28cf474a2885c445436b35ff94\"></div>\n",
       "<script type=\"text/javascript\">\n",
       "  var VEGA_DEBUG = (typeof VEGA_DEBUG == \"undefined\") ? {} : VEGA_DEBUG;\n",
       "  (function(spec, embedOpt){\n",
       "    let outputDiv = document.currentScript.previousElementSibling;\n",
       "    if (outputDiv.id !== \"altair-viz-6ce8ab28cf474a2885c445436b35ff94\") {\n",
       "      outputDiv = document.getElementById(\"altair-viz-6ce8ab28cf474a2885c445436b35ff94\");\n",
       "    }\n",
       "    const paths = {\n",
       "      \"vega\": \"https://cdn.jsdelivr.net/npm/vega@5?noext\",\n",
       "      \"vega-lib\": \"https://cdn.jsdelivr.net/npm/vega-lib?noext\",\n",
       "      \"vega-lite\": \"https://cdn.jsdelivr.net/npm/vega-lite@5.20.1?noext\",\n",
       "      \"vega-embed\": \"https://cdn.jsdelivr.net/npm/vega-embed@6?noext\",\n",
       "    };\n",
       "\n",
       "    function maybeLoadScript(lib, version) {\n",
       "      var key = `${lib.replace(\"-\", \"\")}_version`;\n",
       "      return (VEGA_DEBUG[key] == version) ?\n",
       "        Promise.resolve(paths[lib]) :\n",
       "        new Promise(function(resolve, reject) {\n",
       "          var s = document.createElement('script');\n",
       "          document.getElementsByTagName(\"head\")[0].appendChild(s);\n",
       "          s.async = true;\n",
       "          s.onload = () => {\n",
       "            VEGA_DEBUG[key] = version;\n",
       "            return resolve(paths[lib]);\n",
       "          };\n",
       "          s.onerror = () => reject(`Error loading script: ${paths[lib]}`);\n",
       "          s.src = paths[lib];\n",
       "        });\n",
       "    }\n",
       "\n",
       "    function showError(err) {\n",
       "      outputDiv.innerHTML = `<div class=\"error\" style=\"color:red;\">${err}</div>`;\n",
       "      throw err;\n",
       "    }\n",
       "\n",
       "    function displayChart(vegaEmbed) {\n",
       "      vegaEmbed(outputDiv, spec, embedOpt)\n",
       "        .catch(err => showError(`Javascript Error: ${err.message}<br>This usually means there's a typo in your chart specification. See the javascript console for the full traceback.`));\n",
       "    }\n",
       "\n",
       "    if(typeof define === \"function\" && define.amd) {\n",
       "      requirejs.config({paths});\n",
       "      require([\"vega-embed\"], displayChart, err => showError(`Error loading script: ${err.message}`));\n",
       "    } else {\n",
       "      maybeLoadScript(\"vega\", \"5\")\n",
       "        .then(() => maybeLoadScript(\"vega-lite\", \"5.20.1\"))\n",
       "        .then(() => maybeLoadScript(\"vega-embed\", \"6\"))\n",
       "        .catch(showError)\n",
       "        .then(() => displayChart(vegaEmbed));\n",
       "    }\n",
       "  })({\"config\": {\"view\": {\"continuousWidth\": 300, \"continuousHeight\": 300}}, \"vconcat\": [{\"layer\": [{\"mark\": {\"type\": \"bar\"}, \"encoding\": {\"color\": {\"field\": \"control_type\", \"type\": \"nominal\"}, \"x\": {\"field\": \"control_type\", \"title\": \"Control Type\", \"type\": \"nominal\"}, \"y\": {\"aggregate\": \"mean\", \"field\": \"score\", \"title\": \"Average Score\", \"type\": \"quantitative\"}}}, {\"mark\": {\"type\": \"point\", \"opacity\": 0.7, \"size\": 60}, \"encoding\": {\"color\": {\"field\": \"control_type\", \"type\": \"nominal\"}, \"x\": {\"field\": \"control_type\", \"title\": \"Control Type\", \"type\": \"nominal\"}, \"y\": {\"field\": \"score\", \"type\": \"quantitative\"}}}], \"height\": 200, \"title\": \"Average Score by Control Type\", \"width\": 300}, {\"layer\": [{\"mark\": {\"type\": \"bar\"}, \"encoding\": {\"color\": {\"field\": \"control_type\", \"type\": \"nominal\"}, \"x\": {\"field\": \"control_type\", \"title\": \"Control Type\", \"type\": \"nominal\"}, \"y\": {\"aggregate\": \"mean\", \"field\": \"distance\", \"title\": \"Average Distance\", \"type\": \"quantitative\"}}}, {\"mark\": {\"type\": \"point\", \"opacity\": 0.7, \"size\": 60}, \"encoding\": {\"color\": {\"field\": \"control_type\", \"type\": \"nominal\"}, \"x\": {\"field\": \"control_type\", \"title\": \"Control Type\", \"type\": \"nominal\"}, \"y\": {\"field\": \"distance\", \"type\": \"quantitative\"}}}], \"height\": 200, \"title\": \"Average Distance by Control Type\", \"width\": 300}, {\"layer\": [{\"mark\": {\"type\": \"bar\"}, \"encoding\": {\"color\": {\"field\": \"control_type\", \"type\": \"nominal\"}, \"x\": {\"field\": \"control_type\", \"title\": \"Control Type\", \"type\": \"nominal\"}, \"y\": {\"aggregate\": \"mean\", \"field\": \"duration\", \"title\": \"Average Duration\", \"type\": \"quantitative\"}}}, {\"mark\": {\"type\": \"point\", \"opacity\": 0.7, \"size\": 60}, \"encoding\": {\"color\": {\"field\": \"control_type\", \"type\": \"nominal\"}, \"x\": {\"field\": \"control_type\", \"title\": \"Control Type\", \"type\": \"nominal\"}, \"y\": {\"field\": \"duration\", \"type\": \"quantitative\"}}}], \"height\": 200, \"title\": \"Average Duration by Control Type\", \"width\": 300}, {\"data\": {\"name\": \"data-afa5a34a641f597fdc89f478db9f02f8\"}, \"mark\": {\"type\": \"bar\"}, \"encoding\": {\"color\": {\"field\": \"control_type\", \"type\": \"nominal\"}, \"column\": {\"field\": \"metric\", \"title\": \"NASA TLX Metrics\", \"type\": \"nominal\"}, \"x\": {\"field\": \"control_type\", \"title\": \"Control Type\", \"type\": \"nominal\"}, \"y\": {\"aggregate\": \"mean\", \"field\": \"score\", \"title\": \"Average Score\", \"type\": \"quantitative\"}}, \"title\": \"NASA TLX Scores Comparison\", \"width\": 100}], \"data\": {\"name\": \"data-1f63b7713c57a5b0e3101c3ff710d79b\"}, \"title\": \"Performance Metrics Comparison\", \"$schema\": \"https://vega.github.io/schema/vega-lite/v5.20.1.json\", \"datasets\": {\"data-1f63b7713c57a5b0e3101c3ff710d79b\": [{\"participant\": \"Chisang\", \"control_type\": \"Keyboard\", \"score\": 12785, \"distance\": 1258, \"duration\": 72}, {\"participant\": \"Chisang\", \"control_type\": \"Keyboard\", \"score\": 5386, \"distance\": 477, \"duration\": 31}, {\"participant\": \"Chisang\", \"control_type\": \"Gesture\", \"score\": 2015, \"distance\": 211, \"duration\": 15}, {\"participant\": \"Chisang\", \"control_type\": \"Gesture\", \"score\": 3016, \"distance\": 492, \"duration\": 33}, {\"participant\": \"Nadim\", \"control_type\": \"Keyboard\", \"score\": 9054, \"distance\": 901, \"duration\": 51}, {\"participant\": \"Nadim\", \"control_type\": \"Keyboard\", \"score\": 11002, \"distance\": 1303, \"duration\": 78}, {\"participant\": \"Nadim\", \"control_type\": \"Gesture\", \"score\": 2990, \"distance\": 263, \"duration\": 21}, {\"participant\": \"Nadim\", \"control_type\": \"Gesture\", \"score\": 5668, \"distance\": 465, \"duration\": 38}, {\"participant\": \"Dalton\", \"control_type\": \"Keyboard\", \"score\": 23267, \"distance\": 2001, \"duration\": 92}, {\"participant\": \"Dalton\", \"control_type\": \"Keyboard\", \"score\": 7717, \"distance\": 700, \"duration\": 56}, {\"participant\": \"Dalton\", \"control_type\": \"Gesture\", \"score\": 2947, \"distance\": 244, \"duration\": 17}, {\"participant\": \"Dalton\", \"control_type\": \"Gesture\", \"score\": 3312, \"distance\": 503, \"duration\": 33}, {\"participant\": \"Tyler\", \"control_type\": \"Keyboard\", \"score\": 13837, \"distance\": 1313, \"duration\": 82}, {\"participant\": \"Tyler\", \"control_type\": \"Keyboard\", \"score\": 15321, \"distance\": 1525, \"duration\": 91}, {\"participant\": \"Tyler\", \"control_type\": \"Gesture\", \"score\": 2112, \"distance\": 211, \"duration\": 17}, {\"participant\": \"Tyler\", \"control_type\": \"Gesture\", \"score\": 3189, \"distance\": 3100, \"duration\": 26}], \"data-afa5a34a641f597fdc89f478db9f02f8\": [{\"participant\": \"Chisang\", \"control_type\": \"Keyboard\", \"metric\": \"mental_demand\", \"score\": 6}, {\"participant\": \"Chisang\", \"control_type\": \"Gesture\", \"metric\": \"mental_demand\", \"score\": 6}, {\"participant\": \"Nadim\", \"control_type\": \"Keyboard\", \"metric\": \"mental_demand\", \"score\": 7}, {\"participant\": \"Nadim\", \"control_type\": \"Gesture\", \"metric\": \"mental_demand\", \"score\": 7}, {\"participant\": \"Dalton\", \"control_type\": \"Keyboard\", \"metric\": \"mental_demand\", \"score\": 2}, {\"participant\": \"Dalton\", \"control_type\": \"Gesture\", \"metric\": \"mental_demand\", \"score\": 8}, {\"participant\": \"Tyler\", \"control_type\": \"Keyboard\", \"metric\": \"mental_demand\", \"score\": 1}, {\"participant\": \"Tyler\", \"control_type\": \"Gesture\", \"metric\": \"mental_demand\", \"score\": 10}, {\"participant\": \"Chisang\", \"control_type\": \"Keyboard\", \"metric\": \"physical_demand\", \"score\": 2}, {\"participant\": \"Chisang\", \"control_type\": \"Gesture\", \"metric\": \"physical_demand\", \"score\": 8}, {\"participant\": \"Nadim\", \"control_type\": \"Keyboard\", \"metric\": \"physical_demand\", \"score\": 6}, {\"participant\": \"Nadim\", \"control_type\": \"Gesture\", \"metric\": \"physical_demand\", \"score\": 12}, {\"participant\": \"Dalton\", \"control_type\": \"Keyboard\", \"metric\": \"physical_demand\", \"score\": 2}, {\"participant\": \"Dalton\", \"control_type\": \"Gesture\", \"metric\": \"physical_demand\", \"score\": 10}, {\"participant\": \"Tyler\", \"control_type\": \"Keyboard\", \"metric\": \"physical_demand\", \"score\": 1}, {\"participant\": \"Tyler\", \"control_type\": \"Gesture\", \"metric\": \"physical_demand\", \"score\": 10}, {\"participant\": \"Chisang\", \"control_type\": \"Keyboard\", \"metric\": \"temporal_demand\", \"score\": 11}, {\"participant\": \"Chisang\", \"control_type\": \"Gesture\", \"metric\": \"temporal_demand\", \"score\": 14}, {\"participant\": \"Nadim\", \"control_type\": \"Keyboard\", \"metric\": \"temporal_demand\", \"score\": 11}, {\"participant\": \"Nadim\", \"control_type\": \"Gesture\", \"metric\": \"temporal_demand\", \"score\": 15}, {\"participant\": \"Dalton\", \"control_type\": \"Keyboard\", \"metric\": \"temporal_demand\", \"score\": 11}, {\"participant\": \"Dalton\", \"control_type\": \"Gesture\", \"metric\": \"temporal_demand\", \"score\": 14}, {\"participant\": \"Tyler\", \"control_type\": \"Keyboard\", \"metric\": \"temporal_demand\", \"score\": 8}, {\"participant\": \"Tyler\", \"control_type\": \"Gesture\", \"metric\": \"temporal_demand\", \"score\": 14}, {\"participant\": \"Chisang\", \"control_type\": \"Keyboard\", \"metric\": \"performance\", \"score\": 6}, {\"participant\": \"Chisang\", \"control_type\": \"Gesture\", \"metric\": \"performance\", \"score\": 4}, {\"participant\": \"Nadim\", \"control_type\": \"Keyboard\", \"metric\": \"performance\", \"score\": 8}, {\"participant\": \"Nadim\", \"control_type\": \"Gesture\", \"metric\": \"performance\", \"score\": 4}, {\"participant\": \"Dalton\", \"control_type\": \"Keyboard\", \"metric\": \"performance\", \"score\": 8}, {\"participant\": \"Dalton\", \"control_type\": \"Gesture\", \"metric\": \"performance\", \"score\": 3}, {\"participant\": \"Tyler\", \"control_type\": \"Keyboard\", \"metric\": \"performance\", \"score\": 10}, {\"participant\": \"Tyler\", \"control_type\": \"Gesture\", \"metric\": \"performance\", \"score\": 4}, {\"participant\": \"Chisang\", \"control_type\": \"Keyboard\", \"metric\": \"effort\", \"score\": 6}, {\"participant\": \"Chisang\", \"control_type\": \"Gesture\", \"metric\": \"effort\", \"score\": 9}, {\"participant\": \"Nadim\", \"control_type\": \"Keyboard\", \"metric\": \"effort\", \"score\": 8}, {\"participant\": \"Nadim\", \"control_type\": \"Gesture\", \"metric\": \"effort\", \"score\": 12}, {\"participant\": \"Dalton\", \"control_type\": \"Keyboard\", \"metric\": \"effort\", \"score\": 3}, {\"participant\": \"Dalton\", \"control_type\": \"Gesture\", \"metric\": \"effort\", \"score\": 9}, {\"participant\": \"Tyler\", \"control_type\": \"Keyboard\", \"metric\": \"effort\", \"score\": 1}, {\"participant\": \"Tyler\", \"control_type\": \"Gesture\", \"metric\": \"effort\", \"score\": 11}, {\"participant\": \"Chisang\", \"control_type\": \"Keyboard\", \"metric\": \"frustration\", \"score\": 5}, {\"participant\": \"Chisang\", \"control_type\": \"Gesture\", \"metric\": \"frustration\", \"score\": 11}, {\"participant\": \"Nadim\", \"control_type\": \"Keyboard\", \"metric\": \"frustration\", \"score\": 5}, {\"participant\": \"Nadim\", \"control_type\": \"Gesture\", \"metric\": \"frustration\", \"score\": 12}, {\"participant\": \"Dalton\", \"control_type\": \"Keyboard\", \"metric\": \"frustration\", \"score\": 2}, {\"participant\": \"Dalton\", \"control_type\": \"Gesture\", \"metric\": \"frustration\", \"score\": 12}, {\"participant\": \"Tyler\", \"control_type\": \"Keyboard\", \"metric\": \"frustration\", \"score\": 1}, {\"participant\": \"Tyler\", \"control_type\": \"Gesture\", \"metric\": \"frustration\", \"score\": 12}]}}, {\"mode\": \"vega-lite\"});\n",
       "</script>"
      ],
      "text/plain": [
       "alt.VConcatChart(...)"
      ]
     },
     "execution_count": 10,
     "metadata": {},
     "output_type": "execute_result"
    }
   ],
   "source": [
    "\n",
    "# Display both sets of visualizations\n",
    "performance_chart & nasa_chart"
   ]
  },
  {
   "cell_type": "code",
   "execution_count": null,
   "id": "8b8f245e-d25c-4791-bb56-49fa68983424",
   "metadata": {},
   "outputs": [],
   "source": []
  }
 ],
 "metadata": {
  "kernelspec": {
   "display_name": "Python 3 (ipykernel)",
   "language": "python",
   "name": "python3"
  },
  "language_info": {
   "codemirror_mode": {
    "name": "ipython",
    "version": 3
   },
   "file_extension": ".py",
   "mimetype": "text/x-python",
   "name": "python",
   "nbconvert_exporter": "python",
   "pygments_lexer": "ipython3",
   "version": "3.12.4"
  }
 },
 "nbformat": 4,
 "nbformat_minor": 5
}
